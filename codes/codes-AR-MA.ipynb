{
 "cells": [
  {
   "cell_type": "markdown",
   "id": "f91cad18",
   "metadata": {},
   "source": [
    "## Descrição:\n",
    "\n",
    "Este notebook corresponde ao exercício feito em sala no dia 29/05. nele, são elaborados scripts para visualização de gráficos de séries autorregressivas e de média móvel. as primeiras células de código contém simulações e as últimas são usados dados reais."
   ]
  },
  {
   "cell_type": "markdown",
   "id": "6d36fed2",
   "metadata": {
    "vscode": {
     "languageId": "r"
    }
   },
   "source": [
    "### importando pacotes"
   ]
  },
  {
   "cell_type": "code",
   "execution_count": null,
   "id": "07cff78f",
   "metadata": {
    "vscode": {
     "languageId": "r"
    }
   },
   "outputs": [
    {
     "ename": "",
     "evalue": "",
     "output_type": "error",
     "traceback": [
      "\u001b[1;31mFailed to start the Kernel. \n",
      "\u001b[1;31mThe kernel 'R' was not started as it is located in an insecure location 'c:\\ProgramData\\jupyter\\kernels\\ir\\kernel.json'.  \n",
      "\u001b[1;31mClick <a href='https://aka.ms/JupyterTrustedKernelPaths'>here</a> for further details, optionally update the setting <a href='command:workbench.action.openSettings?[\"jupyter.kernels.trusted\"]'>jupyter.kernels.trusted</a> to trust the kernel."
     ]
    }
   ],
   "source": [
    "#install.packages(\"forecast\")\n",
    "#install.packages(\"readxl\")\n",
    "library(\"forecast\")\n",
    "library(\"readxl\")\n"
   ]
  },
  {
   "cell_type": "markdown",
   "id": "a9017dd2",
   "metadata": {},
   "source": [
    "## Modelos de média móvel:\n",
    "#### forma geral da equação:\n",
    "$Y_t = c + \\theta_1 Y_{t-1} + \\theta_2 Y_{t-2} + \\dots + \\theta_p Y_{t-p} + \\epsilon_t$"
   ]
  },
  {
   "cell_type": "markdown",
   "id": "4d45ca0b",
   "metadata": {
    "vscode": {
     "languageId": "r"
    }
   },
   "source": [
    "##### Simulação de série MA(0) "
   ]
  },
  {
   "cell_type": "code",
   "execution_count": null,
   "id": "f381e004",
   "metadata": {
    "vscode": {
     "languageId": "r"
    }
   },
   "outputs": [],
   "source": [
    "y <- arima.sim(list(ma = c(0, 0)), n = 500)\n",
    "\n",
    "# Layout 2x2 para manter espaço\n",
    "par(mfrow = c(2, 2))\n",
    "\n",
    "# Plota a série temporal\n",
    "plot(y, main = \"Série Temporal Simulada (MA(0))\", ylab = \"y\", xlab = \"Tempo\")\n",
    "\n",
    "# ACF\n",
    "Acf(y, main = \"ACF - MA(0)\")\n",
    "\n",
    "# PACF\n",
    "Pacf(y, main = \"PACF - MA(0)\")\n"
   ]
  },
  {
   "cell_type": "markdown",
   "id": "a308fc3a",
   "metadata": {
    "vscode": {
     "languageId": "r"
    }
   },
   "source": [
    "##### simulação MA(1) com $\\theta_1$ = 0.8"
   ]
  },
  {
   "cell_type": "code",
   "execution_count": null,
   "id": "1cdc2d53",
   "metadata": {
    "vscode": {
     "languageId": "r"
    }
   },
   "outputs": [],
   "source": [
    "# Simula uma série MA(2)\n",
    "y <- arima.sim(list(ma = c(0.8)), n = 1000)\n",
    "\n",
    "# Layout 2x2 para exibir os 3 gráficos\n",
    "par(mfrow = c(2, 2))\n",
    "\n",
    "# Série temporal\n",
    "plot(y, main = \"Série Temporal Simulada MA(1)\", \n",
    "     xlab = \"Tempo\", ylab = \"y\")\n",
    "\n",
    "# ACF\n",
    "Acf(y, main = \"ACF - MA(1)\")\n",
    "\n",
    "# PACF\n",
    "Pacf(y, main = \"PACF - MA(1)\")\n",
    "\n",
    "# Espaço vazio no 4º painel\n",
    "plot.new()\n"
   ]
  },
  {
   "cell_type": "markdown",
   "id": "23aeb690",
   "metadata": {
    "vscode": {
     "languageId": "r"
    }
   },
   "source": [
    "#### Simulação MA(2) com $\\theta_1 = 0.6$ e $\\theta_2 = 0.4$"
   ]
  },
  {
   "cell_type": "code",
   "execution_count": null,
   "id": "c8cf16ef",
   "metadata": {
    "vscode": {
     "languageId": "r"
    }
   },
   "outputs": [],
   "source": [
    "y <- arima.sim(list(ma = c(0.6, 0.4)), n = 500)\n",
    "\n",
    "# Layout 2x2\n",
    "par(mfrow = c(2, 2))\n",
    "\n",
    "# Série temporal\n",
    "plot(y, main = \"Série Temporal Simulada MA(2)\",\n",
    "     xlab = \"Tempo\", ylab = \"y\")\n",
    "\n",
    "# ACF\n",
    "Acf(y, main = \"ACF - MA(2)\")\n",
    "\n",
    "# PACF\n",
    "Pacf(y, main = \"PACF - MA(2)\")\n",
    "\n",
    "# Painel vazio\n",
    "plot.new()\n"
   ]
  },
  {
   "cell_type": "markdown",
   "id": "ff77669f",
   "metadata": {},
   "source": [
    "## Modelos autorregressivos\n",
    "#### a forma geral da equação dos modelos é dada por:\n",
    "\n",
    "$Y_t = c + \\phi_1 Y_{t-1} + \\phi_2 Y_{t-2} + \\dots + \\phi_p Y_{t-p} + \\epsilon_t$"
   ]
  },
  {
   "cell_type": "markdown",
   "id": "2bc0d20d",
   "metadata": {
    "vscode": {
     "languageId": "r"
    }
   },
   "source": [
    "##### Simulação AR(1) com $\\phi_1 = 0.9$"
   ]
  },
  {
   "cell_type": "code",
   "execution_count": null,
   "id": "c3f63cc3",
   "metadata": {
    "vscode": {
     "languageId": "r"
    }
   },
   "outputs": [],
   "source": [
    "# Simula o processo AR(1)\n",
    "y <- arima.sim(list(ar = c(0.9)), n = 1000)\n",
    "\n",
    "# Configura o layout para 2 linhas e 2 colunas\n",
    "par(mfrow = c(2, 2))\n",
    "\n",
    "# 1. Plot da Série Temporal\n",
    "plot(y, main = \"Série Temporal Simulada AR(1)\", # Título ajustado para AR(1)\n",
    "     xlab = \"Tempo\", ylab = \"y\")\n",
    "\n",
    "# 2. Plot da Função de Autocorrelação (ACF)\n",
    "Acf(y, main = \"ACF - AR(1)\") # Título ajustado para AR(1)\n",
    "\n",
    "# 3. Plot da Função de Autocorrelação Parcial (PACF)\n",
    "Pacf(y, main = \"PACF - AR(1)\") # Título ajustado para AR(1)\n",
    "\n",
    "# 4. Painel Vazio (para completar o grid 2x2, como no seu exemplo MA(2))\n",
    "plot.new()"
   ]
  },
  {
   "cell_type": "markdown",
   "id": "b4def23b",
   "metadata": {},
   "source": [
    "#### Simulação AR(2) com $\\phi_1 = 0.45$ e $\\phi_2 = 0.5$"
   ]
  },
  {
   "cell_type": "code",
   "execution_count": null,
   "id": "379ac95f",
   "metadata": {
    "vscode": {
     "languageId": "r"
    }
   },
   "outputs": [],
   "source": [
    "y = arima.sim(list(ar = c(0.45, 0.5)), n = 1000)\n",
    "\n",
    "# Define layout dos gráficos: 2 linha, 2 colunas\n",
    "par(mfrow = c(2,2))\n",
    "\n",
    "# Plota os gráficos lado a lado\n",
    "plot(y, main = \"Série Temporal Simulada (AR(2))\")\n",
    "acf(y, main = \"ACF da Série Temporal Simulada (AR(2))\")\n",
    "pacf(y, main = \"PACF da Série Temporal Simulada (AR(2))\")\n"
   ]
  },
  {
   "cell_type": "markdown",
   "id": "9b373a92",
   "metadata": {
    "vscode": {
     "languageId": "r"
    }
   },
   "source": [
    "## Estimando com dados reais:\n",
    "\n",
    "o principal desafio desta etapa se dá em entender qual o processo gerador de dados"
   ]
  },
  {
   "cell_type": "markdown",
   "id": "d2ae065c",
   "metadata": {},
   "source": [
    "#### Exemplo 1: títulos do tesouro americano"
   ]
  },
  {
   "cell_type": "code",
   "execution_count": null,
   "id": "88b07287",
   "metadata": {
    "vscode": {
     "languageId": "r"
    }
   },
   "outputs": [],
   "source": [
    "y = read_excel('data/Figure6_5_Table6_1_treasury.xls')\n",
    "\n",
    "# selecionando apenas a coluna de interesse\n",
    "y = y[,2]\n",
    "\n",
    "#transformando a série em um objeto time serie\n",
    "y = ts(y)\n",
    "\n",
    "par(mfrow = c(2,2))\n",
    "\n",
    "# Plota os gráficos lado a lado\n",
    "plot(y, main = \"Série Temporal\")\n",
    "Acf(y, main = \"ACF\")\n",
    "Pacf(y, main = \"PACF\")\n"
   ]
  },
  {
   "cell_type": "markdown",
   "id": "d61efc13",
   "metadata": {},
   "source": [
    "#### Exemplo 2: vendas de roupas ao longo do tempo"
   ]
  },
  {
   "cell_type": "code",
   "execution_count": null,
   "id": "c008b275",
   "metadata": {
    "vscode": {
     "languageId": "r"
    }
   },
   "outputs": [],
   "source": [
    "y = read_excel('data/Figure7_17_clothingsales.xls')\n",
    "\n",
    "# selecionando apenas a coluna de interesse\n",
    "y = y[,2]\n",
    "\n",
    "#transformando a série em um objeto ts\n",
    "y = ts(y)\n",
    "\n",
    "par(mfrow = c(2,2))\n",
    "\n",
    "# Plota os gráficos lado a lado\n",
    "plot(y, main = \"Série Temporal\")\n",
    "Acf(y, main = \"ACF\")\n",
    "Pacf(y, main = \"PACF\")"
   ]
  }
 ],
 "metadata": {
  "kernelspec": {
   "display_name": "R",
   "language": "R",
   "name": "ir"
  },
  "language_info": {
   "codemirror_mode": "r",
   "file_extension": ".r",
   "mimetype": "text/x-r-source",
   "name": "R",
   "pygments_lexer": "r",
   "version": "4.5.0"
  }
 },
 "nbformat": 4,
 "nbformat_minor": 5
}
