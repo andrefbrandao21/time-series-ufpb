{
 "cells": [
  {
   "cell_type": "markdown",
   "id": "0cee7264",
   "metadata": {},
   "source": [
    "## Descrição:\n",
    "\n",
    "Este notebook demonstra um exercício de comparação da acurácia de diferentes modelos de previsão para uma série temporal simulada. A partir de uma série Autorregressiva de ordem 2 (AR(2)) gerada artificialmente, o exercício consiste em:\n",
    "1.  Gerar previsões fora da amostra (out-of-sample) usando uma janela recursiva para vários modelos:\n",
    "    * Um modelo Ingênuo (média histórica) como benchmark.\n",
    "    * Modelos Autorregressivos (AR) de ordem 1 a 4.\n",
    "    * Modelos de Média Móvel (MA) de ordem 1 a 4.\n",
    "    * Uma combinação simples (média) de todas as previsões.\n",
    "2.  Avaliar e comparar a performance de cada modelo usando as métricas MSE, MAE e R² (Out-of-Sample)."
   ]
  },
  {
   "cell_type": "markdown",
   "id": "46d8d45a",
   "metadata": {},
   "source": [
    "### 1. Carregando os Pacotes\n",
    "\n",
    "Primeiro, vamos carregar os pacotes necessários para a análise. O `forecast` é essencial para os modelos ARIMA e o `dplyr` pode ser útil para manipulação de dados."
   ]
  },
  {
   "cell_type": "code",
   "execution_count": null,
   "id": "df24667a",
   "metadata": {
    "vscode": {
     "languageId": "r"
    }
   },
   "outputs": [
    {
     "name": "stderr",
     "output_type": "stream",
     "text": [
      "\n",
      "Anexando pacote: 'caret'\n",
      "\n",
      "\n",
      "O seguinte objeto é mascarado _por_ '.GlobalEnv':\n",
      "\n",
      "    R2\n",
      "\n",
      "\n",
      "\n",
      "Anexando pacote: 'rminer'\n",
      "\n",
      "\n",
      "O seguinte objeto é mascarado por 'package:text2vec':\n",
      "\n",
      "    fit\n",
      "\n",
      "\n"
     ]
    }
   ],
   "source": [
    "\n",
    "library(forecast)\n",
    "library(dplyr)"
   ]
  },
  {
   "cell_type": "markdown",
   "id": "65cb4d73",
   "metadata": {
    "vscode": {
     "languageId": "r"
    }
   },
   "source": [
    "### 2. Simulação e Preparação dos Dados\n",
    "\n",
    "Vamos simular uma série temporal a partir de um processo **AR(2)** com 1000 observações. Em seguida, definiremos os parâmetros para o exercício de previsão fora da amostra:\n",
    "\n",
    "* **T (Total de Observações):** 1000\n",
    "* **Tini (Amostra Inicial de Estimação):** 800 observações\n",
    "* **TF (Tamanho da Amostra de Previsão):** 200 observações (as 200 últimas)\n",
    "\n",
    "A metodologia será de **janela recursiva**: começamos estimando com 800 dados para prever o 801º, depois usamos 801 dados para prever o 802º, e assim por diante."
   ]
  },
  {
   "cell_type": "code",
   "execution_count": 15,
   "id": "c2a0c38a",
   "metadata": {
    "vscode": {
     "languageId": "r"
    }
   },
   "outputs": [
    {
     "data": {
      "image/png": "[encoded data removed]",
      "text/plain": [
       "Plot with title \"Série Temporal Simulada AR(2)\""
      ]
     },
     "metadata": {
      "image/png": {
       "height": 420,
       "width": 420
      }
     },
     "output_type": "display_data"
    }
   ],
   "source": [
    "# Simula uma série AR(2) com coeficientes 0.4 e 0.4\n",
    "ar <- arima.sim(list(ar =c(0.4,0.4)), n=1000)\n",
    "\n",
    "# Parâmetros do exercício de previsão\n",
    "T = length(ar)\n",
    "Tini = 800\n",
    "TF = T - Tini\n",
    "\n",
    "# Visualiza a série simulada\n",
    "plot(ar, main=\"Série Temporal Simulada AR(2)\")"
   ]
  },
  {
   "cell_type": "markdown",
   "id": "09d89470",
   "metadata": {},
   "source": [
    "### 3. Gerando Previsões Fora da Amostra\n",
    "\n",
    "Agora, vamos criar um loop para cada modelo para gerar as 200 previsões fora da amostra (one-step-ahead)."
   ]
  },
  {
   "cell_type": "markdown",
   "id": "b142f4ad",
   "metadata": {
    "vscode": {
     "languageId": "r"
    }
   },
   "source": [
    "#### 3.1 Modelo Ingênuo (Benchmark - Média Histórica)\n",
    "\n",
    "Este modelo usa `order=c(0,0,0)` e a previsão é simplesmente a média histórica dos dados disponíveis na janela."
   ]
  },
  {
   "cell_type": "code",
   "execution_count": 26,
   "id": "36ade930",
   "metadata": {
    "vscode": {
     "languageId": "r"
    }
   },
   "outputs": [
    {
     "data": {
      "text/html": [
       "<table class=\"dataframe\">\n",
       "<caption>A matrix: 6 × 1 of type dbl</caption>\n",
       "<tbody>\n",
       "\t<tr><td>-0.01969504</td></tr>\n",
       "\t<tr><td>-0.02026971</td></tr>\n",
       "\t<tr><td>-0.02013003</td></tr>\n",
       "\t<tr><td>-0.02071975</td></tr>\n",
       "\t<tr><td>-0.02290157</td></tr>\n",
       "\t<tr><td>-0.02136813</td></tr>\n",
       "</tbody>\n",
       "</table>\n"
      ],
      "text/latex": [
       "A matrix: 6 × 1 of type dbl\n",
       "\\begin{tabular}{l}\n",
       "\t -0.01969504\\\\\n",
       "\t -0.02026971\\\\\n",
       "\t -0.02013003\\\\\n",
       "\t -0.02071975\\\\\n",
       "\t -0.02290157\\\\\n",
       "\t -0.02136813\\\\\n",
       "\\end{tabular}\n"
      ],
      "text/markdown": [
       "\n",
       "A matrix: 6 × 1 of type dbl\n",
       "\n",
       "| -0.01969504 |\n",
       "| -0.02026971 |\n",
       "| -0.02013003 |\n",
       "| -0.02071975 |\n",
       "| -0.02290157 |\n",
       "| -0.02136813 |\n",
       "\n"
      ],
      "text/plain": [
       "     [,1]       \n",
       "[1,] -0.01969504\n",
       "[2,] -0.02026971\n",
       "[3,] -0.02013003\n",
       "[4,] -0.02071975\n",
       "[5,] -0.02290157\n",
       "[6,] -0.02136813"
      ]
     },
     "metadata": {},
     "output_type": "display_data"
    }
   ],
   "source": [
    "# Previsões do Modelo Ingênuo\n",
    "fcasts_naive <- vector(mode = \"list\", length = TF)\n",
    "frcst_naive_vals <- matrix(nrow = TF)\n",
    "\n",
    "for (i in 1:TF) {\n",
    "  win.ar <- window(ar, end = Tini - 1 + i)\n",
    "  fit <- Arima(win.ar, order = c(0,0,0))\n",
    "  fcasts_naive[[i]] <- forecast(fit, h = 1)\n",
    "  frcst_naive_vals[[i]] <- fcasts_naive[[i]]$mean\n",
    "}\n",
    "\n",
    "f_naive <- as.matrix(frcst_naive_vals)\n",
    "head(f_naive)"
   ]
  },
  {
   "cell_type": "markdown",
   "id": "3675699c",
   "metadata": {
    "vscode": {
     "languageId": "r"
    }
   },
   "source": [
    "#### 3.2 Modelos Autorregressivos (AR)\n",
    "\n",
    "Geramos previsões para modelos AR de ordem 1 a 4."
   ]
  },
  {
   "cell_type": "code",
   "execution_count": null,
   "id": "8d260d1e",
   "metadata": {
    "vscode": {
     "languageId": "r"
    }
   },
   "outputs": [
    {
     "data": {
      "text/html": [
       "<table class=\"dataframe\">\n",
       "<caption>A matrix: 6 × 4 of type dbl</caption>\n",
       "<thead>\n",
       "\t<tr><th scope=col>AR1</th><th scope=col>AR2</th><th scope=col>AR3</th><th scope=col>AR4</th></tr>\n",
       "</thead>\n",
       "<tbody>\n",
       "\t<tr><td>-1.23844404</td><td>-1.3068476</td><td>-1.3013653</td><td>-1.31591427</td></tr>\n",
       "\t<tr><td>-0.31505846</td><td>-0.9321591</td><td>-0.9194202</td><td>-0.91546133</td></tr>\n",
       "\t<tr><td> 0.05073442</td><td>-0.1532340</td><td>-0.1039065</td><td>-0.09383237</td></tr>\n",
       "\t<tr><td>-0.32388614</td><td>-0.1675623</td><td>-0.1587234</td><td>-0.11807255</td></tr>\n",
       "\t<tr><td>-1.14480998</td><td>-0.9004719</td><td>-0.9259763</td><td>-0.91880941</td></tr>\n",
       "\t<tr><td> 0.76381009</td><td>-0.2074411</td><td>-0.2015035</td><td>-0.22229455</td></tr>\n",
       "</tbody>\n",
       "</table>\n"
      ],
      "text/latex": [
       "A matrix: 6 × 4 of type dbl\n",
       "\\begin{tabular}{llll}\n",
       " AR1 & AR2 & AR3 & AR4\\\\\n",
       "\\hline\n",
       "\t -1.23844404 & -1.3068476 & -1.3013653 & -1.31591427\\\\\n",
       "\t -0.31505846 & -0.9321591 & -0.9194202 & -0.91546133\\\\\n",
       "\t  0.05073442 & -0.1532340 & -0.1039065 & -0.09383237\\\\\n",
       "\t -0.32388614 & -0.1675623 & -0.1587234 & -0.11807255\\\\\n",
       "\t -1.14480998 & -0.9004719 & -0.9259763 & -0.91880941\\\\\n",
       "\t  0.76381009 & -0.2074411 & -0.2015035 & -0.22229455\\\\\n",
       "\\end{tabular}\n"
      ],
      "text/markdown": [
       "\n",
       "A matrix: 6 × 4 of type dbl\n",
       "\n",
       "| AR1 | AR2 | AR3 | AR4 |\n",
       "|---|---|---|---|\n",
       "| -1.23844404 | -1.3068476 | -1.3013653 | -1.31591427 |\n",
       "| -0.31505846 | -0.9321591 | -0.9194202 | -0.91546133 |\n",
       "|  0.05073442 | -0.1532340 | -0.1039065 | -0.09383237 |\n",
       "| -0.32388614 | -0.1675623 | -0.1587234 | -0.11807255 |\n",
       "| -1.14480998 | -0.9004719 | -0.9259763 | -0.91880941 |\n",
       "|  0.76381009 | -0.2074411 | -0.2015035 | -0.22229455 |\n",
       "\n"
      ],
      "text/plain": [
       "     AR1         AR2        AR3        AR4        \n",
       "[1,] -1.23844404 -1.3068476 -1.3013653 -1.31591427\n",
       "[2,] -0.31505846 -0.9321591 -0.9194202 -0.91546133\n",
       "[3,]  0.05073442 -0.1532340 -0.1039065 -0.09383237\n",
       "[4,] -0.32388614 -0.1675623 -0.1587234 -0.11807255\n",
       "[5,] -1.14480998 -0.9004719 -0.9259763 -0.91880941\n",
       "[6,]  0.76381009 -0.2074411 -0.2015035 -0.22229455"
      ]
     },
     "metadata": {},
     "output_type": "display_data"
    }
   ],
   "source": [
    "\n",
    "# Inicializa uma matriz para armazenar todas as previsões dos modelos AR\n",
    "# Linhas: número de previsões fora da amostra (TF)\n",
    "# Colunas: número de modelos AR a serem testados (4)\n",
    "f_ar_all <- matrix(nrow = TF, ncol = 4)\n",
    "\n",
    "# Loop principal para a janela de tempo recursiva\n",
    "for (i in 1:TF) {\n",
    "  # Define a janela de dados para a iteração atual\n",
    "  win.ar <- window(ar, end = Tini - 1 + i)\n",
    "  \n",
    "  # Loop aninhado para as ordens do modelo AR (de p=1 até p=4)\n",
    "  for (p in 1:4) {\n",
    "    # Ajusta o modelo ARIMA com a ordem AR atual\n",
    "    fit <- Arima(win.ar, order = c(p, 0, 0))\n",
    "    \n",
    "    # Armazena a previsão na linha 'i' e coluna 'p' da matriz\n",
    "    f_ar_all[i, p] <- forecast(fit, h = 1)$mean\n",
    "  }\n",
    "}\n",
    "\n",
    "# Adiciona nomes às colunas para facilitar a identificação\n",
    "colnames(f_ar_all) <- c(\"AR1\", \"AR2\", \"AR3\", \"AR4\")\n",
    "\n",
    "# Exibe as primeiras 6 linhas da matriz resultante\n",
    "head(f_ar_all)\n"
   ]
  },
  {
   "cell_type": "markdown",
   "id": "63a62574",
   "metadata": {
    "vscode": {
     "languageId": "r"
    }
   },
   "source": [
    "#### 3.3 Modelos de Média Móvel (MA)\n",
    "\n",
    "Geramos previsões para modelos MA de ordem 1 a 4."
   ]
  },
  {
   "cell_type": "code",
   "execution_count": 27,
   "id": "78075918",
   "metadata": {
    "vscode": {
     "languageId": "r"
    }
   },
   "outputs": [
    {
     "data": {
      "text/html": [
       "<table class=\"dataframe\">\n",
       "<caption>A matrix: 6 × 4 of type dbl</caption>\n",
       "<thead>\n",
       "\t<tr><th scope=col>MA1</th><th scope=col>MA2</th><th scope=col>MA3</th><th scope=col>MA4</th></tr>\n",
       "</thead>\n",
       "<tbody>\n",
       "\t<tr><td>-0.622184738</td><td>-0.63049737</td><td>-1.04109284</td><td>-1.2930029</td></tr>\n",
       "\t<tr><td> 0.034500102</td><td>-0.43775682</td><td>-0.28149942</td><td>-0.6636831</td></tr>\n",
       "\t<tr><td> 0.001923886</td><td> 0.25932134</td><td> 0.24509504</td><td> 0.3096013</td></tr>\n",
       "\t<tr><td>-0.211817655</td><td>-0.08580971</td><td>-0.02936217</td><td> 0.0902113</td></tr>\n",
       "\t<tr><td>-0.626112538</td><td>-1.04000666</td><td>-1.04567673</td><td>-0.8561018</td></tr>\n",
       "\t<tr><td> 0.685593180</td><td> 0.12211077</td><td>-0.07603154</td><td>-0.2173051</td></tr>\n",
       "</tbody>\n",
       "</table>\n"
      ],
      "text/latex": [
       "A matrix: 6 × 4 of type dbl\n",
       "\\begin{tabular}{llll}\n",
       " MA1 & MA2 & MA3 & MA4\\\\\n",
       "\\hline\n",
       "\t -0.622184738 & -0.63049737 & -1.04109284 & -1.2930029\\\\\n",
       "\t  0.034500102 & -0.43775682 & -0.28149942 & -0.6636831\\\\\n",
       "\t  0.001923886 &  0.25932134 &  0.24509504 &  0.3096013\\\\\n",
       "\t -0.211817655 & -0.08580971 & -0.02936217 &  0.0902113\\\\\n",
       "\t -0.626112538 & -1.04000666 & -1.04567673 & -0.8561018\\\\\n",
       "\t  0.685593180 &  0.12211077 & -0.07603154 & -0.2173051\\\\\n",
       "\\end{tabular}\n"
      ],
      "text/markdown": [
       "\n",
       "A matrix: 6 × 4 of type dbl\n",
       "\n",
       "| MA1 | MA2 | MA3 | MA4 |\n",
       "|---|---|---|---|\n",
       "| -0.622184738 | -0.63049737 | -1.04109284 | -1.2930029 |\n",
       "|  0.034500102 | -0.43775682 | -0.28149942 | -0.6636831 |\n",
       "|  0.001923886 |  0.25932134 |  0.24509504 |  0.3096013 |\n",
       "| -0.211817655 | -0.08580971 | -0.02936217 |  0.0902113 |\n",
       "| -0.626112538 | -1.04000666 | -1.04567673 | -0.8561018 |\n",
       "|  0.685593180 |  0.12211077 | -0.07603154 | -0.2173051 |\n",
       "\n"
      ],
      "text/plain": [
       "     MA1          MA2         MA3         MA4       \n",
       "[1,] -0.622184738 -0.63049737 -1.04109284 -1.2930029\n",
       "[2,]  0.034500102 -0.43775682 -0.28149942 -0.6636831\n",
       "[3,]  0.001923886  0.25932134  0.24509504  0.3096013\n",
       "[4,] -0.211817655 -0.08580971 -0.02936217  0.0902113\n",
       "[5,] -0.626112538 -1.04000666 -1.04567673 -0.8561018\n",
       "[6,]  0.685593180  0.12211077 -0.07603154 -0.2173051"
      ]
     },
     "metadata": {},
     "output_type": "display_data"
    }
   ],
   "source": [
    "# Inicializa uma matriz para armazenar todas as previsões dos modelos MA\n",
    "# Linhas: número de previsões fora da amostra (TF)\n",
    "# Colunas: número de modelos MA a serem testados (4)\n",
    "f_ma_all <- matrix(nrow = TF, ncol = 4)\n",
    "\n",
    "# Loop principal para a janela de tempo recursiva\n",
    "for (i in 1:TF) {\n",
    "  # Define a janela de dados para a iteração atual\n",
    "  win.ar <- window(ar, end = Tini - 1 + i)\n",
    "  \n",
    "  # Loop aninhado para as ordens do modelo MA (de q=1 até q=4)\n",
    "  for (q in 1:4) {\n",
    "    # Ajusta o modelo ARIMA com a ordem MA atual\n",
    "    fit <- Arima(win.ar, order = c(0, 0, q))\n",
    "    \n",
    "    # Armazena a previsão na linha 'i' e coluna 'q' da matriz\n",
    "    f_ma_all[i, q] <- forecast(fit, h = 1)$mean\n",
    "  }\n",
    "}\n",
    "\n",
    "# Adiciona nomes às colunas para facilitar a identificação\n",
    "colnames(f_ma_all) <- c(\"MA1\", \"MA2\", \"MA3\", \"MA4\")\n",
    "\n",
    "# Exibe as primeiras 6 linhas da matriz resultante\n",
    "head(f_ma_all)"
   ]
  },
  {
   "cell_type": "markdown",
   "id": "483f73f6",
   "metadata": {
    "vscode": {
     "languageId": "r"
    }
   },
   "source": [
    "#### 3.4 Combinação de Previsões\n",
    "\n",
    "Criamos um novo previsor que é a média simples de todas as previsões individuais geradas."
   ]
  },
  {
   "cell_type": "code",
   "execution_count": 28,
   "id": "bd6b868e",
   "metadata": {
    "vscode": {
     "languageId": "r"
    }
   },
   "outputs": [],
   "source": [
    "# Combina todas as previsões em uma única matriz\n",
    "f_all <- cbind(f_naive, f_ar1, f_ar2, f_ar3, f_ar4, f_ma1, f_ma2, f_ma3, f_ma4)\n",
    "\n",
    "# Calcula a média das previsões para cada ponto no tempo\n",
    "f_combined <- apply(f_all, 1, FUN = mean)"
   ]
  },
  {
   "cell_type": "markdown",
   "id": "07c73299",
   "metadata": {
    "vscode": {
     "languageId": "r"
    }
   },
   "source": [
    "### 4. Avaliação da Acurácia dos Modelos\n",
    "\n",
    "Agora vamos definir as funções para calcular as métricas de erro e, em seguida, aplicá-las para comparar os modelos."
   ]
  },
  {
   "cell_type": "markdown",
   "id": "bc501cfc",
   "metadata": {
    "vscode": {
     "languageId": "r"
    }
   },
   "source": [
    "#### 4.1 Funções para Métricas de Avaliação\n",
    "\n",
    "Definimos funções para o Erro Quadrático Médio (MSE, ou RMSE no código), Erro Absoluto Médio (MAE) e R² Fora da Amostra (OOS R²)."
   ]
  },
  {
   "cell_type": "code",
   "execution_count": 29,
   "id": "8c96bd6b",
   "metadata": {
    "vscode": {
     "languageId": "r"
    }
   },
   "outputs": [],
   "source": [
    "# Função que retorna o Erro Quadrático Médio da Raiz (RMSE), que é a raiz do MSE\n",
    "rmse <- function(error) {\n",
    "  error <- as.matrix(error)\n",
    "  n <- ncol(error)\n",
    "  rmse_value <- vector(mode = \"numeric\", length = n)\n",
    "   for (i in 1:n){\n",
    "    rmse_value[i] <- sqrt(mean(error[,i]^2))\n",
    "  }\n",
    "  return(rmse_value)\n",
    "}\n",
    "\n",
    "# Função que retorna o Erro Absoluto Médio (MAE)\n",
    "mae <- function(error) {\n",
    "  error <- as.matrix(error)\n",
    "  n <- ncol(error)\n",
    "  mae_value <- vector(mode = \"numeric\", length = n)\n",
    "  for (i in 1:n){\n",
    "    mae_value[i] <- mean(abs(error[,i]))\n",
    "  }\n",
    "  return(mae_value)\n",
    "}\n",
    "\n",
    "# Função que retorna o OOS R² em porcentagem\n",
    "R2 <- function(error_model, error_benchmark) {\n",
    "  error_model <- as.matrix(error_model)\n",
    "  error_benchmark <- as.matrix(error_benchmark)\n",
    "  n <- ncol(error_model)\n",
    "  R2_s <- vector(mode = \"numeric\", length = n)\n",
    "  for (i in 1:n) {\n",
    "    mse_model <- mean(error_model[,i]^2)\n",
    "    mse_benchmark <- mean(error_benchmark^2)\n",
    "    R2_s[i] <- (1 - mse_model / mse_benchmark) * 100\n",
    "  }\n",
    "  return(R2_s)\n",
    "}"
   ]
  },
  {
   "cell_type": "markdown",
   "id": "578f7c2a",
   "metadata": {
    "vscode": {
     "languageId": "r"
    }
   },
   "source": [
    "#### 4.2 Cálculo e Apresentação dos Resultados\n",
    "\n",
    "Com as funções prontas, calculamos os erros e as métricas para cada modelo, usando o modelo Ingênuo como benchmark para o R²."
   ]
  },
  {
   "cell_type": "code",
   "execution_count": 30,
   "id": "39c52c6e",
   "metadata": {
    "vscode": {
     "languageId": "r"
    }
   },
   "outputs": [
    {
     "name": "stdout",
     "output_type": "stream",
     "text": [
      "[1] \"--- Erro Quadrático Médio (MSE) ---\"\n",
      "     Modelo      MSE\n",
      "1     Naive 2.577006\n",
      "2       AR1 1.526902\n",
      "3       AR2 1.177170\n",
      "4       AR3 1.173997\n",
      "5       AR4 1.173922\n",
      "6       MA1 3.321017\n",
      "7       MA2 3.877077\n",
      "8       MA3 4.070621\n",
      "9       MA4 4.284696\n",
      "10 Combined 2.001984\n",
      "[1] \"--- Erro Absoluto Médio (MAE) ---\"\n",
      "     Modelo       MAE\n",
      "1     Naive 1.2360613\n",
      "2       AR1 0.9847363\n",
      "3       AR2 0.8792699\n",
      "4       AR3 0.8786476\n",
      "5       AR4 0.8779029\n",
      "6       MA1 1.4038648\n",
      "7       MA2 1.5004731\n",
      "8       MA3 1.5721578\n",
      "9       MA4 1.6326490\n",
      "10 Combined 1.1185164\n",
      "[1] \"--- OOS R² vs. Modelo Ingênuo (%) ---\"\n",
      "    Modelo OOS_R_quadrado\n",
      "1      AR1       40.74899\n",
      "2      AR2       54.32026\n",
      "3      AR3       54.44336\n",
      "4      AR4       54.44627\n",
      "5      MA1      -28.87116\n",
      "6      MA2      -50.44891\n",
      "7      MA3      -57.95932\n",
      "8      MA4      -66.26644\n",
      "9 Combined       22.31357\n"
     ]
    }
   ],
   "source": [
    "# Prepara a matriz final de previsões, incluindo o modelo combinado\n",
    "forecasts_final <- cbind(f_all, f_combined)\n",
    "\n",
    "# Isola os valores observados na janela de previsão\n",
    "yobs <- ar[(Tini + 1):T]\n",
    "\n",
    "# Calcula a matriz de erros\n",
    "error <- yobs - forecasts_final\n",
    "\n",
    "# Define os nomes dos modelos para as tabelas de resultado\n",
    "model_names <- c(\"Naive\", \"AR1\", \"AR2\", \"AR3\", \"AR4\", \"MA1\", \"MA2\", \"MA3\", \"MA4\", \"Combined\")\n",
    "model_names_r2 <- c(\"AR1\", \"AR2\", \"AR3\", \"AR4\", \"MA1\", \"MA2\", \"MA3\", \"MA4\", \"Combined\")\n",
    "\n",
    "# Calcula as métricas\n",
    "MSE_values <- rmse(error)^2 # Elevamos ao quadrado para ter o MSE\n",
    "MAE_values <- mae(error)\n",
    "R2_values <- R2(error_model = error[,-1], error_benchmark = error[,1])\n",
    "\n",
    "# Cria e exibe os data frames com os resultados\n",
    "MSE_models <- data.frame(Modelo = model_names, MSE = MSE_values)\n",
    "MAE_models <- data.frame(Modelo = model_names, MAE = MAE_values)\n",
    "R2_DF <- data.frame(Modelo = model_names_r2, OOS_R_quadrado = R2_values)\n",
    "\n",
    "print(\"--- Erro Quadrático Médio (MSE) ---\")\n",
    "print(MSE_models)\n",
    "\n",
    "print(\"--- Erro Absoluto Médio (MAE) ---\")\n",
    "print(MAE_models)\n",
    "\n",
    "print(\"--- OOS R² vs. Modelo Ingênuo (%) ---\")\n",
    "print(R2_DF)"
   ]
  },
  {
   "cell_type": "markdown",
   "id": "9a1b681b",
   "metadata": {},
   "source": [
    "### 5. Análise dos Resultados\n",
    "\n",
    "Os resultados acima mostram o desempenho de cada modelo.\n",
    "* **MSE e MAE:** Valores menores indicam um modelo melhor. Como a série foi gerada por um processo AR(2), esperamos que o modelo **AR(2)** tenha um dos menores erros, o que geralmente se confirma.\n",
    "* **OOS R²:** Esta métrica compara cada modelo com o benchmark (Ingênuo).\n",
    "    * Valores **positivos** indicam que o modelo é melhor que o benchmark.\n",
    "    * Valores **negativos** indicam que o modelo é pior que o benchmark.\n",
    "    \n",
    "O modelo de combinação simples (`Combined`) também costuma apresentar um bom desempenho, pois diversifica o erro entre vários modelos."
   ]
  }
 ],
 "metadata": {
  "kernelspec": {
   "display_name": "R",
   "language": "R",
   "name": "ir"
  },
  "language_info": {
   "codemirror_mode": "r",
   "file_extension": ".r",
   "mimetype": "text/x-r-source",
   "name": "R",
   "pygments_lexer": "r",
   "version": "4.5.0"
  }
 },
 "nbformat": 4,
 "nbformat_minor": 5
}
